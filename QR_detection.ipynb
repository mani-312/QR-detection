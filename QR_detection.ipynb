{
 "cells": [
  {
   "cell_type": "code",
   "execution_count": 2,
   "metadata": {
    "id": "Iog-x90zQkx2"
   },
   "outputs": [],
   "source": [
    "# Importing the libraries\n",
    "import torch\n",
    "import torch.nn as nn\n",
    "import torch.optim as optim\n",
    "from torch.utils.data import Dataset, DataLoader\n",
    "from torch.utils.data import random_split\n",
    "from torchvision import datasets, models, transforms\n",
    "from torch.optim import lr_scheduler\n",
    "from PIL import Image\n",
    "import pandas as pd\n",
    "import glob\n",
    "import numpy as np\n",
    "import os\n",
    "import cv2\n",
    "import matplotlib.pyplot as plt\n",
    "import time\n",
    "import copy\n",
    "from google.colab.patches import cv2_imshow"
   ]
  },
  {
   "cell_type": "code",
   "execution_count": 4,
   "metadata": {
    "id": "lBqnvEWLT3sk"
   },
   "outputs": [],
   "source": [
    "# Load the dataframe containing bounding box info of all images\n",
    "df = pd.read_csv(\"/content/drive/MyDrive/QR/bounding_boxes.csv\",index_col=False)\n",
    "del df[df.columns[0]]"
   ]
  },
  {
   "cell_type": "code",
   "execution_count": 5,
   "metadata": {
    "colab": {
     "base_uri": "https://localhost:8080/",
     "height": 206
    },
    "id": "lEfNu5FbUBqI",
    "outputId": "fb8429a1-71e0-46d3-df4c-5c8bcff8661f"
   },
   "outputs": [
    {
     "data": {
      "text/html": [
       "\n",
       "  <div id=\"df-e65e92a1-fb35-4b39-b3d5-1fb9371093de\">\n",
       "    <div class=\"colab-df-container\">\n",
       "      <div>\n",
       "<style scoped>\n",
       "    .dataframe tbody tr th:only-of-type {\n",
       "        vertical-align: middle;\n",
       "    }\n",
       "\n",
       "    .dataframe tbody tr th {\n",
       "        vertical-align: top;\n",
       "    }\n",
       "\n",
       "    .dataframe thead th {\n",
       "        text-align: right;\n",
       "    }\n",
       "</style>\n",
       "<table border=\"1\" class=\"dataframe\">\n",
       "  <thead>\n",
       "    <tr style=\"text-align: right;\">\n",
       "      <th></th>\n",
       "      <th>File_name</th>\n",
       "      <th>top</th>\n",
       "      <th>left</th>\n",
       "      <th>height</th>\n",
       "      <th>width</th>\n",
       "    </tr>\n",
       "  </thead>\n",
       "  <tbody>\n",
       "    <tr>\n",
       "      <th>0</th>\n",
       "      <td>1.jpg</td>\n",
       "      <td>56</td>\n",
       "      <td>41</td>\n",
       "      <td>75</td>\n",
       "      <td>50</td>\n",
       "    </tr>\n",
       "    <tr>\n",
       "      <th>1</th>\n",
       "      <td>1_crop.jpg</td>\n",
       "      <td>141</td>\n",
       "      <td>162</td>\n",
       "      <td>51</td>\n",
       "      <td>61</td>\n",
       "    </tr>\n",
       "    <tr>\n",
       "      <th>2</th>\n",
       "      <td>1_rotate.jpg</td>\n",
       "      <td>138</td>\n",
       "      <td>2</td>\n",
       "      <td>78</td>\n",
       "      <td>68</td>\n",
       "    </tr>\n",
       "    <tr>\n",
       "      <th>3</th>\n",
       "      <td>2.jpg</td>\n",
       "      <td>23</td>\n",
       "      <td>84</td>\n",
       "      <td>83</td>\n",
       "      <td>86</td>\n",
       "    </tr>\n",
       "    <tr>\n",
       "      <th>4</th>\n",
       "      <td>2_crop.jpg</td>\n",
       "      <td>143</td>\n",
       "      <td>94</td>\n",
       "      <td>70</td>\n",
       "      <td>76</td>\n",
       "    </tr>\n",
       "  </tbody>\n",
       "</table>\n",
       "</div>\n",
       "      <button class=\"colab-df-convert\" onclick=\"convertToInteractive('df-e65e92a1-fb35-4b39-b3d5-1fb9371093de')\"\n",
       "              title=\"Convert this dataframe to an interactive table.\"\n",
       "              style=\"display:none;\">\n",
       "        \n",
       "  <svg xmlns=\"http://www.w3.org/2000/svg\" height=\"24px\"viewBox=\"0 0 24 24\"\n",
       "       width=\"24px\">\n",
       "    <path d=\"M0 0h24v24H0V0z\" fill=\"none\"/>\n",
       "    <path d=\"M18.56 5.44l.94 2.06.94-2.06 2.06-.94-2.06-.94-.94-2.06-.94 2.06-2.06.94zm-11 1L8.5 8.5l.94-2.06 2.06-.94-2.06-.94L8.5 2.5l-.94 2.06-2.06.94zm10 10l.94 2.06.94-2.06 2.06-.94-2.06-.94-.94-2.06-.94 2.06-2.06.94z\"/><path d=\"M17.41 7.96l-1.37-1.37c-.4-.4-.92-.59-1.43-.59-.52 0-1.04.2-1.43.59L10.3 9.45l-7.72 7.72c-.78.78-.78 2.05 0 2.83L4 21.41c.39.39.9.59 1.41.59.51 0 1.02-.2 1.41-.59l7.78-7.78 2.81-2.81c.8-.78.8-2.07 0-2.86zM5.41 20L4 18.59l7.72-7.72 1.47 1.35L5.41 20z\"/>\n",
       "  </svg>\n",
       "      </button>\n",
       "      \n",
       "  <style>\n",
       "    .colab-df-container {\n",
       "      display:flex;\n",
       "      flex-wrap:wrap;\n",
       "      gap: 12px;\n",
       "    }\n",
       "\n",
       "    .colab-df-convert {\n",
       "      background-color: #E8F0FE;\n",
       "      border: none;\n",
       "      border-radius: 50%;\n",
       "      cursor: pointer;\n",
       "      display: none;\n",
       "      fill: #1967D2;\n",
       "      height: 32px;\n",
       "      padding: 0 0 0 0;\n",
       "      width: 32px;\n",
       "    }\n",
       "\n",
       "    .colab-df-convert:hover {\n",
       "      background-color: #E2EBFA;\n",
       "      box-shadow: 0px 1px 2px rgba(60, 64, 67, 0.3), 0px 1px 3px 1px rgba(60, 64, 67, 0.15);\n",
       "      fill: #174EA6;\n",
       "    }\n",
       "\n",
       "    [theme=dark] .colab-df-convert {\n",
       "      background-color: #3B4455;\n",
       "      fill: #D2E3FC;\n",
       "    }\n",
       "\n",
       "    [theme=dark] .colab-df-convert:hover {\n",
       "      background-color: #434B5C;\n",
       "      box-shadow: 0px 1px 3px 1px rgba(0, 0, 0, 0.15);\n",
       "      filter: drop-shadow(0px 1px 2px rgba(0, 0, 0, 0.3));\n",
       "      fill: #FFFFFF;\n",
       "    }\n",
       "  </style>\n",
       "\n",
       "      <script>\n",
       "        const buttonEl =\n",
       "          document.querySelector('#df-e65e92a1-fb35-4b39-b3d5-1fb9371093de button.colab-df-convert');\n",
       "        buttonEl.style.display =\n",
       "          google.colab.kernel.accessAllowed ? 'block' : 'none';\n",
       "\n",
       "        async function convertToInteractive(key) {\n",
       "          const element = document.querySelector('#df-e65e92a1-fb35-4b39-b3d5-1fb9371093de');\n",
       "          const dataTable =\n",
       "            await google.colab.kernel.invokeFunction('convertToInteractive',\n",
       "                                                     [key], {});\n",
       "          if (!dataTable) return;\n",
       "\n",
       "          const docLinkHtml = 'Like what you see? Visit the ' +\n",
       "            '<a target=\"_blank\" href=https://colab.research.google.com/notebooks/data_table.ipynb>data table notebook</a>'\n",
       "            + ' to learn more about interactive tables.';\n",
       "          element.innerHTML = '';\n",
       "          dataTable['output_type'] = 'display_data';\n",
       "          await google.colab.output.renderOutput(dataTable, element);\n",
       "          const docLink = document.createElement('div');\n",
       "          docLink.innerHTML = docLinkHtml;\n",
       "          element.appendChild(docLink);\n",
       "        }\n",
       "      </script>\n",
       "    </div>\n",
       "  </div>\n",
       "  "
      ],
      "text/plain": [
       "      File_name  top  left  height  width\n",
       "0         1.jpg   56    41      75     50\n",
       "1    1_crop.jpg  141   162      51     61\n",
       "2  1_rotate.jpg  138     2      78     68\n",
       "3         2.jpg   23    84      83     86\n",
       "4    2_crop.jpg  143    94      70     76"
      ]
     },
     "execution_count": 5,
     "metadata": {},
     "output_type": "execute_result"
    }
   ],
   "source": [
    "df.head()"
   ]
  },
  {
   "cell_type": "code",
   "execution_count": 1,
   "metadata": {
    "colab": {
     "base_uri": "https://localhost:8080/"
    },
    "id": "GFkasBOC8wIw",
    "outputId": "5a6df7aa-696d-47ad-92d8-eebdd0a75579"
   },
   "outputs": [
    {
     "name": "stdout",
     "output_type": "stream",
     "text": [
      "Mounted at /content/drive\n"
     ]
    }
   ],
   "source": [
    "from google.colab import drive\n",
    "drive.mount('/content/drive')"
   ]
  },
  {
   "cell_type": "code",
   "execution_count": 9,
   "metadata": {
    "id": "MU-BVYKHTk9l"
   },
   "outputs": [],
   "source": [
    "# Apply transformations on images\n",
    "transform = transforms.Compose([\n",
    "    transforms.ToTensor(),\n",
    "    transforms.Normalize([0.485, 0.456, 0.406], [0.229, 0.224, 0.225])])"
   ]
  },
  {
   "cell_type": "code",
   "execution_count": 15,
   "metadata": {
    "id": "WtfqKsbJLbpT"
   },
   "outputs": [],
   "source": [
    "# dic stores the file name to index mappings of dataframe\n",
    "dic = {}\n",
    "\n",
    "# iterate over the rows of the dataframe and populate the dictionary\n",
    "for index, row in df.iterrows():\n",
    "    dic[row['File_name']] = index\n"
   ]
  },
  {
   "cell_type": "code",
   "execution_count": 17,
   "metadata": {
    "id": "I4M8QODCTGUa"
   },
   "outputs": [],
   "source": [
    "\n",
    "class ObjectDataset(Dataset):\n",
    "    def __init__(self, image_paths, labels, dic, transform=None):\n",
    "        self.image_paths = image_paths\n",
    "        self.labels = labels\n",
    "        self.transform = transform\n",
    "        self.dic = dic\n",
    "        \n",
    "    def __len__(self):\n",
    "        return len(self.image_paths)\n",
    "    \n",
    "    def __getitem__(self, index):\n",
    "        image_path = self.image_paths[index]\n",
    "        df = self.labels\n",
    "        row = df.loc[dic[image_path.split('/')[-1]]]\n",
    "        temp = np.array([row['top'],row['left'],row['height'],row['width']]).reshape(4,1)/224\n",
    "        label = transforms.ToTensor()(temp)\n",
    "        image = Image.open(image_path).convert('RGB')\n",
    "        \n",
    "        if self.transform is not None:\n",
    "            image = self.transform(image)\n",
    "        \n",
    "        return image, label\n"
   ]
  },
  {
   "cell_type": "code",
   "execution_count": 18,
   "metadata": {
    "id": "lBxR_51KTQ7M"
   },
   "outputs": [],
   "source": [
    "# data_path contains all the images that are created in QR_data_generation\n",
    "data_path = \"/content/drive/MyDrive/QR/dataset/\"\n",
    "train_image_paths = []\n",
    "\n",
    "count = 1\n",
    "for image_path in glob.glob(os.path.join(data_path, \"*.jpg\")):\n",
    "  train_image_paths.append(image_path)\n",
    "  count+=1\n",
    "  \n",
    "train_labels = pd.read_csv(\"/content/drive/MyDrive/QR/bounding_boxes.csv\")\n",
    "del train_labels[train_labels.columns[0]]"
   ]
  },
  {
   "cell_type": "code",
   "execution_count": 19,
   "metadata": {
    "colab": {
     "base_uri": "https://localhost:8080/"
    },
    "id": "e0yVXrhKVSk_",
    "outputId": "426b027c-4989-4905-c3e3-f83e04a24644"
   },
   "outputs": [
    {
     "data": {
      "text/plain": [
       "(14856, 5)"
      ]
     },
     "execution_count": 19,
     "metadata": {},
     "output_type": "execute_result"
    }
   ],
   "source": [
    "train_labels.shape"
   ]
  },
  {
   "cell_type": "code",
   "execution_count": 20,
   "metadata": {
    "colab": {
     "base_uri": "https://localhost:8080/"
    },
    "id": "FlPnLanTVPGm",
    "outputId": "f018d333-7730-4976-d177-c2b968bd0506"
   },
   "outputs": [
    {
     "data": {
      "text/plain": [
       "14856"
      ]
     },
     "execution_count": 20,
     "metadata": {},
     "output_type": "execute_result"
    }
   ],
   "source": [
    "len(train_image_paths)"
   ]
  },
  {
   "cell_type": "code",
   "execution_count": 21,
   "metadata": {
    "id": "k-vhBK3JTQWR"
   },
   "outputs": [],
   "source": [
    "# set up data loaders for train, val and test\n",
    "\n",
    "dataset = ObjectDataset(train_image_paths, train_labels,dic, transform=transform)\n",
    "\n",
    "train_data,val_data,test_data = random_split(dataset,[0.70,0.15,0.15], generator=torch.Generator().manual_seed(42))\n",
    "\n",
    "dataset_sizes = {\"train\" : len(train_data),\"val\" : len(val_data), \"test\" : len(test_data)}\n",
    "train_dataloader = DataLoader(train_data, batch_size=32, shuffle=True)\n",
    "val_dataloader = DataLoader(val_data, batch_size=32, shuffle=True)\n",
    "test_dataloader = DataLoader(test_data, batch_size=32, shuffle=True)\n",
    "\n",
    "dataloaders = {\"train\":train_dataloader, \"val\":val_dataloader, \"test\":test_dataloader}\n"
   ]
  },
  {
   "cell_type": "code",
   "execution_count": 22,
   "metadata": {
    "colab": {
     "base_uri": "https://localhost:8080/"
    },
    "id": "gvf_nyOHa94r",
    "outputId": "d3cc46a2-3f60-4e19-982e-4ee5af827f4a"
   },
   "outputs": [
    {
     "data": {
      "text/plain": [
       "{'train': 10400, 'val': 2228, 'test': 2228}"
      ]
     },
     "execution_count": 22,
     "metadata": {},
     "output_type": "execute_result"
    }
   ],
   "source": [
    "dataset_sizes"
   ]
  },
  {
   "cell_type": "code",
   "execution_count": 23,
   "metadata": {
    "id": "NPHEvLY7W27V"
   },
   "outputs": [],
   "source": [
    "img,boxes = next(iter(train_dataloader))"
   ]
  },
  {
   "cell_type": "code",
   "execution_count": 24,
   "metadata": {
    "colab": {
     "base_uri": "https://localhost:8080/"
    },
    "id": "wJSkuER1irRG",
    "outputId": "5d6d85b9-b8d1-43d5-9241-943aa37c3129"
   },
   "outputs": [
    {
     "data": {
      "text/plain": [
       "torch.Size([3, 224, 224])"
      ]
     },
     "execution_count": 24,
     "metadata": {},
     "output_type": "execute_result"
    }
   ],
   "source": [
    "img[0].shape"
   ]
  },
  {
   "cell_type": "code",
   "execution_count": 25,
   "metadata": {
    "colab": {
     "base_uri": "https://localhost:8080/",
     "height": 285
    },
    "id": "oq4YMYvdb3Pv",
    "outputId": "76210192-61f6-40d4-b413-b62f43a4459a"
   },
   "outputs": [
    {
     "name": "stdout",
     "output_type": "stream",
     "text": [
      "(224, 224, 3)\n"
     ]
    },
    {
     "data": {
      "image/png": "[encoded data removed]",
      "text/plain": [
       "<Figure size 432x288 with 1 Axes>"
      ]
     },
     "metadata": {
      "needs_background": "light"
     },
     "output_type": "display_data"
    }
   ],
   "source": [
    "# Visualizing the total image and QR in image\n",
    "def imshow(inp,top,left = None,height = None,width = None,title=None):\n",
    "    \"\"\"Imshow for Tensor.\"\"\"\n",
    "    inp = inp.numpy().transpose((1, 2, 0))\n",
    "    mean = np.array([0.5,0.5,0.5])\n",
    "    std = np.array([0.5,0.5,0.5])\n",
    "    inp = std * inp + mean\n",
    "    inp = np.clip(inp, 0, 1)\n",
    "    print(inp.shape)\n",
    "    if(top==-1):\n",
    "      plt.imshow(inp)\n",
    "    else:\n",
    "      plt.imshow(inp[top:top+height,left:left+width,:])\n",
    "#imshow(img[0],-1)\n",
    "box = (boxes[0].reshape(4,1)*224).int()\n",
    "imshow(img[0],box[0],box[1],box[2],box[3])"
   ]
  },
  {
   "cell_type": "code",
   "execution_count": 5,
   "metadata": {
    "colab": {
     "base_uri": "https://localhost:8080/"
    },
    "id": "jv2tmBpGnAZy",
    "outputId": "d2951879-f15e-42c0-da43-c0c9c006a825"
   },
   "outputs": [
    {
     "data": {
      "text/plain": [
       "device(type='cuda', index=0)"
      ]
     },
     "execution_count": 5,
     "metadata": {},
     "output_type": "execute_result"
    }
   ],
   "source": [
    "device = torch.device(\"cuda:0\" if torch.cuda.is_available() else \"cpu\")\n",
    "device"
   ]
  },
  {
   "cell_type": "code",
   "execution_count": 26,
   "metadata": {
    "id": "ITqt5yP0kevi"
   },
   "outputs": [],
   "source": []
  },
  {
   "cell_type": "code",
   "execution_count": 27,
   "metadata": {
    "id": "L64WanVVfS38"
   },
   "outputs": [],
   "source": [
    "# Calculates the IOU between true_boxes and pred_boxes\n",
    "def calculate_iou_batch(true_boxes, pred_boxes):\n",
    "    n_boxes = true_boxes.shape[0]\n",
    "    iou = torch.zeros((n_boxes,))\n",
    "\n",
    "    for i in range(n_boxes):\n",
    "        true_box = true_boxes[i]\n",
    "        true_box_top_left = true_box[:2]\n",
    "        true_box_bottom_right = true_box_top_left + true_box[2:]\n",
    "\n",
    "        pred_box = pred_boxes[i]\n",
    "        pred_box_top_left = pred_box[:2]\n",
    "        pred_box_bottom_right = pred_box_top_left + pred_box[2:]\n",
    "\n",
    "        xA = max(true_box_top_left[1], pred_box_top_left[1])\n",
    "        yA = max(true_box_top_left[0], pred_box_top_left[0])\n",
    "        xB = min(true_box_bottom_right[1], pred_box_bottom_right[1])\n",
    "        yB = min(true_box_bottom_right[0], pred_box_bottom_right[0])\n",
    "\n",
    "        intersection_area = max(0, xB - xA) * max(0, yB - yA)\n",
    "        true_box_area = true_box[2] * true_box[3]\n",
    "        pred_box_area = pred_box[2] * pred_box[3]\n",
    "        union_area = true_box_area + pred_box_area - intersection_area\n",
    "\n",
    "        iou[i] = intersection_area / union_area\n",
    "\n",
    "    return iou.sum()\n"
   ]
  },
  {
   "cell_type": "code",
   "execution_count": 3,
   "metadata": {
    "id": "sOaCwmDgqw0A"
   },
   "outputs": [],
   "source": [
    "class ResNet18(torch.nn.Module):\n",
    "    def __init__(self, num_classes):\n",
    "        super(ResNet18, self).__init__()\n",
    "        self.resnet18 = models.resnet18(pretrained=True)\n",
    "        for param in self.resnet18.parameters():\n",
    "            param.requires_grad = True\n",
    "        self.fc1 = nn.Linear(in_features=1000, out_features=4)\n",
    "\n",
    "    def forward(self, x):\n",
    "        x = self.resnet18(x)\n",
    "        x = self.fc1(x)\n",
    "        return x"
   ]
  },
  {
   "cell_type": "code",
   "execution_count": 34,
   "metadata": {
    "id": "oejl02ztOJi5"
   },
   "outputs": [],
   "source": [
    "def train_model(model, criterion, optimizer, scheduler, num_epochs=25):\n",
    "    since = time.time()\n",
    "\n",
    "    best_model_wts = copy.deepcopy(model.state_dict())\n",
    "    best_IOU = 0.0\n",
    "    stat_loss = {\"train\":[],\"val\":[]}\n",
    "    stat_IOU = {\"train\":[],\"val\":[]}\n",
    "\n",
    "    for epoch in range(num_epochs):\n",
    "        print(f'Epoch {epoch}/{num_epochs - 1}')\n",
    "        print('-' * 10)\n",
    "\n",
    "        # Each epoch has a training and validation phase\n",
    "        for phase in ['train', 'val']:\n",
    "            if phase == 'train':\n",
    "                model.train()  # Set model to training mode\n",
    "            else:\n",
    "                model.eval()   # Set model to evaluate mode\n",
    "\n",
    "            running_loss = 0.0\n",
    "            IOU = 0\n",
    "\n",
    "            # Iterate over data.\n",
    "            batch = 1\n",
    "            for inputs, labels in dataloaders[phase]:\n",
    "                inputs = inputs.to(device)\n",
    "                labels = labels.to(device)\n",
    "\n",
    "                # zero the parameter gradients\n",
    "                optimizer.zero_grad()\n",
    "\n",
    "                # forward\n",
    "                # track history if only in train\n",
    "                with torch.set_grad_enabled(phase == 'train'):\n",
    "                    outputs = model(inputs)\n",
    "                    loss = criterion(outputs, labels.reshape(outputs.shape).float())\n",
    "\n",
    "                    # backward + optimize only if in training phase\n",
    "                    if phase == 'train':\n",
    "                        loss.backward()\n",
    "                        optimizer.step()\n",
    "\n",
    "                \n",
    "                # statistics\n",
    "                loss = loss.item() * inputs.size(0)\n",
    "                running_loss += loss\n",
    "                iou = calculate_iou_batch(labels.reshape(outputs.shape),outputs)\n",
    "                IOU += iou\n",
    "\n",
    "                if batch%50==0 and phase == 'train':\n",
    "                  print(f' Batch: {batch} Loss: {loss:.4f} IOU: {iou/inputs.size(0):.4f}')\n",
    "                \n",
    "                batch+=1\n",
    "            if phase == 'train':\n",
    "                scheduler.step()\n",
    "\n",
    "            epoch_loss = running_loss / dataset_sizes[phase]\n",
    "            epoch_IOU = IOU.double() / dataset_sizes[phase]\n",
    "            stat_loss[phase].append(epoch_loss)\n",
    "            stat_IOU[phase].append(epoch_IOU)\n",
    "            print(f'{phase} Loss: {epoch_loss:.4f} IOU: {epoch_IOU:.4f}')\n",
    "\n",
    "            # deep copy the model\n",
    "            if phase == 'val' and epoch_IOU > best_IOU:\n",
    "                best_IOU = epoch_IOU\n",
    "                best_model_wts = copy.deepcopy(model.state_dict())\n",
    "\n",
    "        print()\n",
    "\n",
    "    time_elapsed = time.time() - since\n",
    "    print(f'Training complete in {time_elapsed // 60:.0f}m {time_elapsed % 60:.0f}s')\n",
    "    print(f'Best val IOU: {best_IOU:4f}')\n",
    "\n",
    "    # load best model weights\n",
    "    model.load_state_dict(best_model_wts)\n",
    "    return model,stat_loss,stat_IOU"
   ]
  },
  {
   "cell_type": "code",
   "execution_count": 12,
   "metadata": {
    "colab": {
     "base_uri": "https://localhost:8080/"
    },
    "id": "TkQjKk15T3y_",
    "outputId": "ef7df2a6-2cb0-41f0-e933-1ecc4d0526ce"
   },
   "outputs": [
    {
     "name": "stderr",
     "output_type": "stream",
     "text": [
      "/usr/local/lib/python3.9/dist-packages/torchvision/models/_utils.py:208: UserWarning: The parameter 'pretrained' is deprecated since 0.13 and may be removed in the future, please use 'weights' instead.\n",
      "  warnings.warn(\n",
      "/usr/local/lib/python3.9/dist-packages/torchvision/models/_utils.py:223: UserWarning: Arguments other than a weight enum or `None` for 'weights' are deprecated since 0.13 and may be removed in the future. The current behavior is equivalent to passing `weights=ResNet18_Weights.IMAGENET1K_V1`. You can also use `weights=ResNet18_Weights.DEFAULT` to get the most up-to-date weights.\n",
      "  warnings.warn(msg)\n"
     ]
    }
   ],
   "source": [
    "# Creating an instance of model\n",
    "model = ResNet18(num_classes=4)\n",
    "model = model.to(device)\n",
    "criterion = nn.MSELoss()\n",
    "\n",
    "optimizer = optim.SGD(model.parameters(), lr=0.001, momentum=0.9)\n",
    "\n",
    "# Decay LR by a factor of 0.1 every 7 epochs\n",
    "exp_lr_scheduler = lr_scheduler.StepLR(optimizer, step_size=5, gamma=0.1)"
   ]
  },
  {
   "cell_type": "code",
   "execution_count": 37,
   "metadata": {
    "colab": {
     "base_uri": "https://localhost:8080/"
    },
    "id": "G_Ol5DYLTVbt",
    "outputId": "aa9a3ea9-1db4-4221-9051-27bfb1cd5e38"
   },
   "outputs": [
    {
     "name": "stdout",
     "output_type": "stream",
     "text": [
      "Epoch 0/14\n",
      "----------\n",
      " Batch: 50 Loss: 2.8749 IOU: 0.0559\n",
      " Batch: 100 Loss: 1.0263 IOU: 0.1393\n",
      " Batch: 150 Loss: 1.0350 IOU: 0.1432\n",
      " Batch: 200 Loss: 0.8148 IOU: 0.1693\n",
      " Batch: 250 Loss: 0.8002 IOU: 0.1980\n",
      " Batch: 300 Loss: 0.5137 IOU: 0.2690\n",
      "train Loss: 0.0875 IOU: 0.1578\n",
      "val Loss: 0.0160 IOU: 0.2680\n",
      "\n",
      "Epoch 1/14\n",
      "----------\n",
      " Batch: 50 Loss: 0.4283 IOU: 0.2878\n",
      " Batch: 100 Loss: 0.4609 IOU: 0.2292\n",
      " Batch: 150 Loss: 0.3451 IOU: 0.2962\n",
      " Batch: 200 Loss: 0.4093 IOU: 0.2839\n",
      " Batch: 250 Loss: 0.3551 IOU: 0.3393\n",
      " Batch: 300 Loss: 0.2505 IOU: 0.3296\n",
      "train Loss: 0.0122 IOU: 0.2968\n",
      "val Loss: 0.0106 IOU: 0.3198\n",
      "\n",
      "Epoch 2/14\n",
      "----------\n",
      " Batch: 50 Loss: 0.2261 IOU: 0.4166\n",
      " Batch: 100 Loss: 0.3190 IOU: 0.3841\n",
      " Batch: 150 Loss: 0.3042 IOU: 0.3966\n",
      " Batch: 200 Loss: 0.2913 IOU: 0.3331\n",
      " Batch: 250 Loss: 0.2415 IOU: 0.3717\n",
      " Batch: 300 Loss: 0.2435 IOU: 0.4138\n",
      "train Loss: 0.0093 IOU: 0.3424\n",
      "val Loss: 0.0069 IOU: 0.4097\n",
      "\n",
      "Epoch 3/14\n",
      "----------\n",
      " Batch: 50 Loss: 0.2256 IOU: 0.4131\n",
      " Batch: 100 Loss: 0.2942 IOU: 0.3124\n",
      " Batch: 150 Loss: 0.1409 IOU: 0.4930\n",
      " Batch: 200 Loss: 0.1726 IOU: 0.3974\n",
      " Batch: 250 Loss: 0.3648 IOU: 0.2551\n",
      " Batch: 300 Loss: 0.2234 IOU: 0.3404\n",
      "train Loss: 0.0070 IOU: 0.3852\n",
      "val Loss: 0.0059 IOU: 0.4398\n",
      "\n",
      "Epoch 4/14\n",
      "----------\n",
      " Batch: 50 Loss: 0.1765 IOU: 0.4134\n",
      " Batch: 100 Loss: 0.2001 IOU: 0.3700\n",
      " Batch: 150 Loss: 0.1401 IOU: 0.4707\n",
      " Batch: 200 Loss: 0.1789 IOU: 0.4451\n",
      " Batch: 250 Loss: 0.3331 IOU: 0.3508\n",
      " Batch: 300 Loss: 0.1883 IOU: 0.4059\n",
      "train Loss: 0.0060 IOU: 0.4120\n",
      "val Loss: 0.0049 IOU: 0.4481\n",
      "\n",
      "Epoch 5/14\n",
      "----------\n",
      " Batch: 50 Loss: 0.1531 IOU: 0.4487\n",
      " Batch: 100 Loss: 0.1052 IOU: 0.4920\n",
      " Batch: 150 Loss: 0.1777 IOU: 0.4212\n",
      " Batch: 200 Loss: 0.1550 IOU: 0.4497\n",
      " Batch: 250 Loss: 0.0929 IOU: 0.4975\n",
      " Batch: 300 Loss: 0.0976 IOU: 0.5470\n",
      "train Loss: 0.0052 IOU: 0.4375\n",
      "val Loss: 0.0046 IOU: 0.4596\n",
      "\n",
      "Epoch 6/14\n",
      "----------\n",
      " Batch: 50 Loss: 0.1355 IOU: 0.4448\n",
      " Batch: 100 Loss: 0.1312 IOU: 0.4594\n",
      " Batch: 150 Loss: 0.1250 IOU: 0.4663\n",
      " Batch: 200 Loss: 0.1441 IOU: 0.4453\n",
      " Batch: 250 Loss: 0.1370 IOU: 0.5259\n",
      " Batch: 300 Loss: 0.1518 IOU: 0.3902\n",
      "train Loss: 0.0047 IOU: 0.4542\n",
      "val Loss: 0.0041 IOU: 0.4929\n",
      "\n",
      "Epoch 7/14\n",
      "----------\n",
      " Batch: 50 Loss: 0.0766 IOU: 0.5843\n",
      " Batch: 100 Loss: 0.0929 IOU: 0.5092\n",
      " Batch: 150 Loss: 0.0867 IOU: 0.5464\n",
      " Batch: 200 Loss: 0.0776 IOU: 0.5438\n",
      " Batch: 250 Loss: 0.0928 IOU: 0.5543\n",
      " Batch: 300 Loss: 0.0897 IOU: 0.5265\n",
      "train Loss: 0.0032 IOU: 0.5167\n",
      "val Loss: 0.0029 IOU: 0.5378\n",
      "\n",
      "Epoch 8/14\n",
      "----------\n",
      " Batch: 50 Loss: 0.0810 IOU: 0.5584\n",
      " Batch: 100 Loss: 0.0874 IOU: 0.5375\n",
      " Batch: 150 Loss: 0.1040 IOU: 0.5207\n",
      " Batch: 200 Loss: 0.1074 IOU: 0.5236\n",
      " Batch: 250 Loss: 0.0892 IOU: 0.5446\n",
      " Batch: 300 Loss: 0.0965 IOU: 0.5435\n",
      "train Loss: 0.0031 IOU: 0.5204\n",
      "val Loss: 0.0029 IOU: 0.5442\n",
      "\n",
      "Epoch 9/14\n",
      "----------\n",
      " Batch: 50 Loss: 0.1177 IOU: 0.4371\n",
      " Batch: 100 Loss: 0.1103 IOU: 0.5034\n",
      " Batch: 150 Loss: 0.0906 IOU: 0.5221\n",
      " Batch: 200 Loss: 0.1672 IOU: 0.3976\n",
      " Batch: 250 Loss: 0.0971 IOU: 0.4991\n",
      " Batch: 300 Loss: 0.1416 IOU: 0.4662\n",
      "train Loss: 0.0031 IOU: 0.5220\n",
      "val Loss: 0.0029 IOU: 0.5429\n",
      "\n",
      "Epoch 10/14\n",
      "----------\n",
      " Batch: 50 Loss: 0.1291 IOU: 0.5339\n",
      " Batch: 100 Loss: 0.0653 IOU: 0.5828\n",
      " Batch: 150 Loss: 0.0850 IOU: 0.5267\n",
      " Batch: 200 Loss: 0.0748 IOU: 0.5481\n",
      " Batch: 250 Loss: 0.0830 IOU: 0.5667\n",
      " Batch: 300 Loss: 0.1026 IOU: 0.4933\n",
      "train Loss: 0.0030 IOU: 0.5254\n",
      "val Loss: 0.0029 IOU: 0.5404\n",
      "\n",
      "Epoch 11/14\n",
      "----------\n",
      " Batch: 50 Loss: 0.1327 IOU: 0.5254\n",
      " Batch: 100 Loss: 0.1071 IOU: 0.5063\n",
      " Batch: 150 Loss: 0.1029 IOU: 0.4977\n",
      " Batch: 200 Loss: 0.0453 IOU: 0.6230\n",
      " Batch: 250 Loss: 0.1523 IOU: 0.4102\n",
      " Batch: 300 Loss: 0.1749 IOU: 0.3900\n",
      "train Loss: 0.0030 IOU: 0.5278\n",
      "val Loss: 0.0028 IOU: 0.5430\n",
      "\n",
      "Epoch 12/14\n",
      "----------\n",
      " Batch: 50 Loss: 0.0779 IOU: 0.5349\n",
      " Batch: 100 Loss: 0.0855 IOU: 0.5050\n",
      " Batch: 150 Loss: 0.0741 IOU: 0.5680\n",
      " Batch: 200 Loss: 0.1038 IOU: 0.5146\n",
      " Batch: 250 Loss: 0.0997 IOU: 0.5173\n",
      " Batch: 300 Loss: 0.0873 IOU: 0.5426\n",
      "train Loss: 0.0030 IOU: 0.5244\n",
      "val Loss: 0.0028 IOU: 0.5464\n",
      "\n",
      "Epoch 13/14\n",
      "----------\n",
      " Batch: 50 Loss: 0.0640 IOU: 0.5842\n",
      " Batch: 100 Loss: 0.1091 IOU: 0.4874\n",
      " Batch: 150 Loss: 0.0942 IOU: 0.5149\n",
      " Batch: 200 Loss: 0.0745 IOU: 0.5383\n",
      " Batch: 250 Loss: 0.1111 IOU: 0.5254\n",
      " Batch: 300 Loss: 0.1308 IOU: 0.4306\n",
      "train Loss: 0.0030 IOU: 0.5281\n",
      "val Loss: 0.0028 IOU: 0.5497\n",
      "\n",
      "Epoch 14/14\n",
      "----------\n",
      " Batch: 50 Loss: 0.0629 IOU: 0.6031\n",
      " Batch: 100 Loss: 0.0656 IOU: 0.5802\n",
      " Batch: 150 Loss: 0.1210 IOU: 0.4776\n",
      " Batch: 200 Loss: 0.1051 IOU: 0.5362\n",
      " Batch: 250 Loss: 0.0737 IOU: 0.5614\n",
      " Batch: 300 Loss: 0.0962 IOU: 0.5199\n",
      "train Loss: 0.0029 IOU: 0.5329\n",
      "val Loss: 0.0027 IOU: 0.5523\n",
      "\n",
      "Training complete in 20m 48s\n",
      "Best val IOU: 0.552344\n"
     ]
    }
   ],
   "source": [
    "model_best,stat_loss,stat_IOU = train_model(model, criterion, optimizer, exp_lr_scheduler, num_epochs=15)"
   ]
  },
  {
   "cell_type": "code",
   "execution_count": 14,
   "metadata": {
    "colab": {
     "base_uri": "https://localhost:8080/",
     "height": 295
    },
    "id": "YdBZMC5G092y",
    "outputId": "e5d8c0e0-178e-471a-f26a-607c919fadea"
   },
   "outputs": [
    {
     "data": {
      "image/png": "[encoded data removed]",
      "text/plain": [
       "<Figure size 432x288 with 1 Axes>"
      ]
     },
     "metadata": {
      "needs_background": "light"
     },
     "output_type": "display_data"
    }
   ],
   "source": [
    "plt.plot(torch.tensor(stat_loss['train']).numpy(),'-o')\n",
    "plt.plot(torch.tensor(stat_loss['val']).numpy(),'-o')\n",
    "plt.xlabel('epoch')\n",
    "plt.ylabel('Loss')\n",
    "plt.legend(['Train','Valid'])\n",
    "plt.title('Train vs Valid Loss')\n",
    " \n",
    "plt.show()"
   ]
  },
  {
   "cell_type": "code",
   "execution_count": 16,
   "metadata": {
    "colab": {
     "base_uri": "https://localhost:8080/",
     "height": 295
    },
    "id": "ZsG5T1VBn4g5",
    "outputId": "b80395a4-67a9-4c7f-b05b-ef2867089034"
   },
   "outputs": [
    {
     "data": {
      "image/png": "[encoded data removed]",
      "text/plain": [
       "<Figure size 432x288 with 1 Axes>"
      ]
     },
     "metadata": {
      "needs_background": "light"
     },
     "output_type": "display_data"
    }
   ],
   "source": [
    "plt.plot(torch.tensor(stat_IOU['train']).numpy(),'-o')\n",
    "plt.plot(torch.tensor(stat_IOU['val']).numpy(),'-o')\n",
    "plt.xlabel('epoch')\n",
    "plt.ylabel('IOU')\n",
    "plt.legend(['Train','Valid'])\n",
    "plt.title('Train vs Valid IOU')\n",
    " \n",
    "plt.show()"
   ]
  },
  {
   "cell_type": "code",
   "execution_count": null,
   "metadata": {
    "id": "ZMfMVX2km3KG"
   },
   "outputs": [],
   "source": []
  },
  {
   "cell_type": "code",
   "execution_count": 38,
   "metadata": {
    "id": "Oz9kU4G9pcru"
   },
   "outputs": [],
   "source": [
    "def test_model(model):\n",
    "  # set the model to evaluation mode\n",
    "  model.eval()\n",
    "\n",
    "  # initialize some variables to keep track of the test results\n",
    "  total_IOU = 0.0\n",
    "  total_loss = 0.0\n",
    "  IOU = 0.0\n",
    "\n",
    "  # loop through the test data\n",
    "  with torch.no_grad():\n",
    "      for data in dataloaders['test']:\n",
    "          inputs, labels = data\n",
    "          inputs = inputs.to(device)\n",
    "          labels = labels.to(device)\n",
    "\n",
    "          # forward pass through the model\n",
    "          outputs = model(inputs)\n",
    "\n",
    "          # calculate the loss and add it to the total loss\n",
    "          loss = criterion(outputs, labels.reshape(outputs.shape))\n",
    "          total_loss += loss.item() * inputs.size(0)\n",
    "          IOU += calculate_iou_batch(labels.reshape(outputs.shape),outputs)\n",
    "      \n",
    "          \n",
    "\n",
    "  # print the test results\n",
    "  test_loss = total_loss / dataset_sizes['test']\n",
    "  test_IOU = IOU / dataset_sizes['test']\n",
    "  print('Test Loss: {:.3f}'.format(test_loss))\n",
    "  print('Test Accuracy: {:.3f}'.format(test_IOU))"
   ]
  },
  {
   "cell_type": "code",
   "execution_count": 41,
   "metadata": {
    "colab": {
     "base_uri": "https://localhost:8080/"
    },
    "id": "AckEia_WSWV9",
    "outputId": "7498e328-0cb5-49d2-e397-a528538a509b"
   },
   "outputs": [
    {
     "name": "stdout",
     "output_type": "stream",
     "text": [
      "Test Loss: 0.003\n",
      "Test Accuracy: 0.546\n"
     ]
    }
   ],
   "source": [
    "test_model(model_best)"
   ]
  },
  {
   "cell_type": "code",
   "execution_count": 10,
   "metadata": {
    "id": "jrDdfSEpSZSD"
   },
   "outputs": [],
   "source": [
    "def predict(model,img):\n",
    "  model.eval()\n",
    "  x1,y1,h,w = (model(img.unsqueeze(0).to(device)).squeeze(0)*224).int()\n",
    "  img = img.numpy().transpose((1, 2, 0))\n",
    "  \n",
    "  mean = np.array([0.5,0.5,0.5])\n",
    "  std = np.array([0.5,0.5,0.5])\n",
    "  img = std * img + mean\n",
    "  img = (np.clip(img,0,1)*255).astype('uint8').copy()\n",
    "  print(x1,y1,h,w)\n",
    "  cv2.rectangle(img, (y1.item(), x1.item()), ((y1+w).item(), (x1+h).item()), (255,0,0), 2)\n",
    "  plt.imshow(img)"
   ]
  },
  {
   "cell_type": "code",
   "execution_count": 11,
   "metadata": {
    "colab": {
     "base_uri": "https://localhost:8080/",
     "height": 306
    },
    "id": "cYZI4vr8SZX3",
    "outputId": "cebca6dd-9ffa-4cb5-e786-891b2427e89a"
   },
   "outputs": [
    {
     "name": "stdout",
     "output_type": "stream",
     "text": [
      "tensor(74, device='cuda:0', dtype=torch.int32) tensor(89, device='cuda:0', dtype=torch.int32) tensor(64, device='cuda:0', dtype=torch.int32) tensor(82, device='cuda:0', dtype=torch.int32)\n"
     ]
    },
    {
     "data": {
      "image/png": "[encoded data removed]",
      "text/plain": [
       "<Figure size 432x288 with 1 Axes>"
      ]
     },
     "metadata": {
      "needs_background": "light"
     },
     "output_type": "display_data"
    }
   ],
   "source": [
    "# Testing the model on an input\n",
    "img = Image.open(\"/content/drive/MyDrive/QR/dataset/117_rotate.jpg\").convert('RGB')\n",
    "img = transform(img)\n",
    "predict(model_load,img)"
   ]
  },
  {
   "cell_type": "code",
   "execution_count": 40,
   "metadata": {
    "id": "u9WCTVlCryzz"
   },
   "outputs": [],
   "source": [
    "# Save the model\n",
    "torch.save(model_best.state_dict(), \"/content/drive/MyDrive/QR/model_resnet_18_14000.pth\")"
   ]
  },
  {
   "cell_type": "code",
   "execution_count": 6,
   "metadata": {
    "colab": {
     "base_uri": "https://localhost:8080/"
    },
    "id": "NB51pP_rrzFg",
    "outputId": "fb8605e8-f37a-40ba-bfb1-7efcc3cad364"
   },
   "outputs": [
    {
     "data": {
      "text/plain": [
       "<All keys matched successfully>"
      ]
     },
     "execution_count": 6,
     "metadata": {},
     "output_type": "execute_result"
    }
   ],
   "source": [
    "# Load the model\n",
    "\n",
    "model_dict = torch.load(\"/content/drive/MyDrive/QR/model_resnet_18_14000.pth\")\n",
    "\n",
    "# Create a new instance of your PyTorch model\n",
    "model_load = ResNet18(num_classes=4)\n",
    "model_load = model_load.to(device)\n",
    "\n",
    "# Load the saved parameters into the model\n",
    "model_load.load_state_dict(model_dict)"
   ]
  },
  {
   "cell_type": "code",
   "execution_count": null,
   "metadata": {
    "id": "F5GlXIfDrzIN"
   },
   "outputs": [],
   "source": []
  },
  {
   "cell_type": "code",
   "execution_count": null,
   "metadata": {
    "id": "AyixuF4irzKx"
   },
   "outputs": [],
   "source": []
  }
 ],
 "metadata": {
  "accelerator": "GPU",
  "colab": {
   "provenance": []
  },
  "gpuClass": "standard",
  "kernelspec": {
   "display_name": "Python 3 (ipykernel)",
   "language": "python",
   "name": "python3"
  },
  "language_info": {
   "codemirror_mode": {
    "name": "ipython",
    "version": 3
   },
   "file_extension": ".py",
   "mimetype": "text/x-python",
   "name": "python",
   "nbconvert_exporter": "python",
   "pygments_lexer": "ipython3",
   "version": "3.10.5"
  }
 },
 "nbformat": 4,
 "nbformat_minor": 1
}
